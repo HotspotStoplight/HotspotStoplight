{
 "cells": [
  {
   "cell_type": "code",
   "execution_count": 1,
   "metadata": {},
   "outputs": [],
   "source": [
    "import os\n",
    "import json\n",
    "import ee\n",
    "import geemap\n",
    "import xarray as xr\n",
    "import wxee\n",
    "from geemap import geojson_to_ee, ee_to_geojson\n",
    "from ipyleaflet import GeoJSON"
   ]
  },
  {
   "cell_type": "code",
   "execution_count": 2,
   "metadata": {},
   "outputs": [],
   "source": [
    "# ee.Authenticate()"
   ]
  },
  {
   "cell_type": "code",
   "execution_count": 3,
   "metadata": {},
   "outputs": [],
   "source": [
    "ee.Initialize()\n",
    "wxee.Initialize()"
   ]
  },
  {
   "cell_type": "code",
   "execution_count": 4,
   "metadata": {},
   "outputs": [],
   "source": [
    "file_path = os.path.abspath(\"data/resourceshedbb_CostaRica_SanJose.geojson\")\n",
    "\n",
    "with open(file_path) as f:\n",
    "    json_data = json.load(f)\n",
    "\n",
    "bbox_geojson = geojson_to_ee(json_data) # need as a feature collection, not bounding box"
   ]
  },
  {
   "cell_type": "code",
   "execution_count": 5,
   "metadata": {},
   "outputs": [],
   "source": [
    "## set time frame\n",
    "before_start= '2019-03-01'\n",
    "before_end='2019-03-10'\n",
    "\n",
    "after_start='2019-03-10'\n",
    "after_end='2019-03-23'"
   ]
  },
  {
   "cell_type": "code",
   "execution_count": 6,
   "metadata": {},
   "outputs": [],
   "source": [
    "# SET SAR PARAMETERS (can be left default)\n",
    "\n",
    "# Polarization (choose either \"VH\" or \"VV\")\n",
    "polarization = \"VH\"  # or \"VV\"\n",
    "\n",
    "# Pass direction (choose either \"DESCENDING\" or \"ASCENDING\")\n",
    "pass_direction = \"DESCENDING\"  # or \"ASCENDING\"\n",
    "\n",
    "# Difference threshold to be applied on the difference image (after flood - before flood)\n",
    "# It has been chosen by trial and error. Adjust as needed.\n",
    "difference_threshold = 1.25\n",
    "\n",
    "# Relative orbit (optional, if you know the relative orbit for your study area)\n",
    "# relative_orbit = 79"
   ]
  },
  {
   "cell_type": "code",
   "execution_count": 7,
   "metadata": {},
   "outputs": [],
   "source": [
    "# Rename the selected geometry feature\n",
    "aoi = bbox_geojson\n",
    "\n",
    "# Load and filter Sentinel-1 GRD data by predefined parameters\n",
    "collection = ee.ImageCollection('COPERNICUS/S1_GRD') \\\n",
    "    .filter(ee.Filter.eq('instrumentMode', 'IW')) \\\n",
    "    .filter(ee.Filter.listContains('transmitterReceiverPolarisation', polarization)) \\\n",
    "    .filter(ee.Filter.eq('orbitProperties_pass', pass_direction)) \\\n",
    "    .filter(ee.Filter.eq('resolution_meters', 10)) \\\n",
    "    .filterBounds(aoi) \\\n",
    "    .select(polarization)\n",
    "\n",
    "# Select images by predefined dates\n",
    "before_collection = collection.filterDate(before_start, before_end)\n",
    "after_collection = collection.filterDate(after_start, after_end)\n",
    "\n",
    "# Create a mosaic of selected tiles and clip to the study area\n",
    "before = before_collection.mosaic().clip(aoi)\n",
    "after = after_collection.mosaic().clip(aoi)\n",
    "\n",
    "# Apply radar speckle reduction by smoothing\n",
    "smoothing_radius = 50\n",
    "before_filtered = before.focal_mean(smoothing_radius, 'circle', 'meters')\n",
    "after_filtered = after.focal_mean(smoothing_radius, 'circle', 'meters')\n",
    "\n",
    "# Calculate the difference between the before and after images\n",
    "difference = after_filtered.divide(before_filtered)\n",
    "\n",
    "# Apply the predefined difference-threshold and create the flood extent mask\n",
    "threshold = difference_threshold\n",
    "difference_binary = difference.gt(threshold)\n",
    "\n",
    "# Refine the flood result using additional datasets\n",
    "swater = ee.Image('JRC/GSW1_0/GlobalSurfaceWater').select('seasonality')\n",
    "swater_mask = swater.gte(10).updateMask(swater.gte(10))\n",
    "flooded_mask = difference_binary.where(swater_mask, 0)\n",
    "flooded = flooded_mask.updateMask(flooded_mask)\n",
    "connections = flooded.connectedPixelCount()\n",
    "flooded = flooded.updateMask(connections.gte(8))\n",
    "\n",
    "# Mask out areas with more than 5 percent slope using a Digital Elevation Model\n",
    "DEM = ee.Image('WWF/HydroSHEDS/03VFDEM')\n",
    "terrain = ee.Algorithms.Terrain(DEM)\n",
    "slope = terrain.select('slope')\n",
    "flooded = flooded.updateMask(slope.lt(5))\n"
   ]
  },
  {
   "cell_type": "code",
   "execution_count": 8,
   "metadata": {},
   "outputs": [
    {
     "data": {
      "application/vnd.jupyter.widget-view+json": {
       "model_id": "5bc07396ffe44060b77d418375f570c4",
       "version_major": 2,
       "version_minor": 0
      },
      "text/plain": [
       "Map(center=[8.6255, -84.0209], controls=(WidgetControl(options=['position', 'transparent_bg'], widget=HBox(chi…"
      ]
     },
     "execution_count": 8,
     "metadata": {},
     "output_type": "execute_result"
    }
   ],
   "source": [
    "# Define the Map object\n",
    "Map = geemap.Map(center=(8.6255, -84.0209), zoom=8)  # Centered at Costa Rica (adjust coordinates as needed)\n",
    "\n",
    "\n",
    "# Add the flooded areas layer to the map with a blue palette\n",
    "Map.addLayer(flooded, {'palette': '0000FF'}, 'Flooded areas')\n",
    "\n",
    "# Display the map\n",
    "Map\n"
   ]
  }
 ],
 "metadata": {
  "kernelspec": {
   "display_name": "Python 3",
   "language": "python",
   "name": "python3"
  },
  "language_info": {
   "codemirror_mode": {
    "name": "ipython",
    "version": 3
   },
   "file_extension": ".py",
   "mimetype": "text/x-python",
   "name": "python",
   "nbconvert_exporter": "python",
   "pygments_lexer": "ipython3",
   "version": "3.9.16"
  }
 },
 "nbformat": 4,
 "nbformat_minor": 2
}
